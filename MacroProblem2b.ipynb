{
 "cells": [
  {
   "cell_type": "markdown",
   "metadata": {},
   "source": [
    "# Problem 2.b\n",
    "\n",
    "First, we install packages and define all relevant objects."
   ]
  },
  {
   "cell_type": "code",
   "execution_count": 31,
   "metadata": {},
   "outputs": [],
   "source": [
    "import numpy as np\n",
    "import pandas as pd\n",
    "from numpy import linalg as LA\n",
    "from matplotlib import pyplot as plt"
   ]
  },
  {
   "cell_type": "code",
   "execution_count": 28,
   "metadata": {},
   "outputs": [],
   "source": [
    "alpha = 0.8\n",
    "theta = 0.75\n",
    "beta = 0.1\n",
    "N = 5000\n",
    "K = np.linspace(0, 1, N)\n",
    "v_0 = K**(alpha * theta)/ alpha\n",
    "# initialize V\n",
    "V = np.tile(v_0,(N,1))\n",
    "V = pd.DataFrame(V)\n",
    "F = pd.DataFrame()\n",
    "for i in range(0,N):\n",
    "    for l in range (0,N):\n",
    "        F.loc[i,l] = (K[i]**(alpha * theta) * (1-K[l])**(alpha * (1-theta)))/alpha\n",
    "#print(N)\n",
    "#print(K)\n",
    "#print(V)\n",
    "#print(F)\n",
    "\n",
    "\n"
   ]
  },
  {
   "cell_type": "markdown",
   "metadata": {},
   "source": [
    "Next, iterate T."
   ]
  },
  {
   "cell_type": "code",
   "execution_count": 29,
   "metadata": {},
   "outputs": [
    {
     "name": "stdout",
     "output_type": "stream",
     "text": [
      "7\n"
     ]
    }
   ],
   "source": [
    "# initialize\n",
    "T_j = v_0\n",
    "M = F + beta * V\n",
    "T_jplus1 = M.max(axis=1)\n",
    "iterations = 0\n",
    "\n",
    "# iterate\n",
    "while LA.norm(T_jplus1 - T_j)>0.000001:\n",
    "    T_j = T_jplus1\n",
    "    V = np.tile(T_j,(N,1))\n",
    "    V = pd.DataFrame(V)\n",
    "    M = F + beta * V\n",
    "    T_jplus1 = M.max(axis=1)\n",
    "    iterations += 1\n",
    "\n",
    "print(iterations)"
   ]
  },
  {
   "cell_type": "code",
   "execution_count": 30,
   "metadata": {},
   "outputs": [
    {
     "name": "stdout",
     "output_type": "stream",
     "text": [
      "0       0.126473\n",
      "1       0.128748\n",
      "2       0.130297\n",
      "3       0.131655\n",
      "4       0.132902\n",
      "          ...   \n",
      "4995    1.264133\n",
      "4996    1.264282\n",
      "4997    1.264431\n",
      "4998    1.264581\n",
      "4999    1.264730\n",
      "Length: 5000, dtype: float64\n"
     ]
    }
   ],
   "source": [
    "print(T_jplus1)"
   ]
  },
  {
   "cell_type": "markdown",
   "metadata": {},
   "source": [
    "We plot K against lim T"
   ]
  },
  {
   "cell_type": "code",
   "execution_count": 32,
   "metadata": {},
   "outputs": [
    {
     "data": {
      "image/png": "[encoded data removed]",
      "text/plain": [
       "<Figure size 432x288 with 1 Axes>"
      ]
     },
     "metadata": {
      "needs_background": "light"
     },
     "output_type": "display_data"
    }
   ],
   "source": [
    "x = K\n",
    "y = T_jplus1\n",
    "plt.plot(x,y)\n",
    "plt.show()"
   ]
  },
  {
   "cell_type": "code",
   "execution_count": null,
   "metadata": {},
   "outputs": [],
   "source": []
  }
 ],
 "metadata": {
  "kernelspec": {
   "display_name": "Python 3",
   "language": "python",
   "name": "python3"
  },
  "language_info": {
   "codemirror_mode": {
    "name": "ipython",
    "version": 3
   },
   "file_extension": ".py",
   "mimetype": "text/x-python",
   "name": "python",
   "nbconvert_exporter": "python",
   "pygments_lexer": "ipython3",
   "version": "3.7.4"
  }
 },
 "nbformat": 4,
 "nbformat_minor": 2
}
